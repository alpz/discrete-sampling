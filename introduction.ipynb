{
 "cells": [
  {
   "cell_type": "code",
   "execution_count": null,
   "id": "b5dbff78-9c1c-4a93-9e1e-9dd5246958b4",
   "metadata": {},
   "outputs": [],
   "source": [
    "import torch\n",
    "import random\n",
    "import time\n",
    "import numpy as np"
   ]
  },
  {
   "cell_type": "markdown",
   "id": "1c17cc5b-c5d6-4dc7-b668-c263f7d293e8",
   "metadata": {},
   "source": [
    "vector weights.\n",
    "categorical distribution.\n",
    "softmax probabilities.\n",
    "\n",
    "Gumbel rv sampling\n",
    "proof or ref.\n",
    "\n",
    "empirically show probabilites\n",
    "\n",
    "softmax relaxation of argmax\n",
    "temperature for relaxation\n",
    "effect of changing temperature.\n",
    "\n",
    "binary\n",
    "\n",
    "VAE\n",
    "relaxed v. discrete difference"
   ]
  },
  {
   "cell_type": "markdown",
   "id": "d7f68565-79be-42c0-a858-376e0d4bf382",
   "metadata": {},
   "source": [
    "# Sampling Discrete Structures\n",
    "\n",
    "In these tutorials we discuss methods for sampling discrete variables from unstructured vectors to more structured objects such as subsets, permutations and graphs which can be incorporated in differentiable models.\n",
    "\n",
    "At the foundation of these methods are continuous relaxations for discrete (binary or categorical) random variables so the first part of the tutorial gives an introduction to sampling form discrete distributions with the Gumbel-Softmax trick.\n",
    "We use the method to train a variational autoencoder with categorical latent variables."
   ]
  },
  {
   "cell_type": "markdown",
   "id": "2b5f19ff-978e-48b6-8ba1-cc914c1e8541",
   "metadata": {},
   "source": [
    "## Categorical Sampling with Gumbel-Argmax\n",
    "\n",
    "Suppose we are given a categorical distribution with $C$ values as weights $w_i \\in (0,\\infty)$. \n",
    "We would like to obtain a sample from this distribution.\n",
    "The probablity of each category $c_i$ is given by the following softmax distribution\n",
    "$$p_i = \\frac{\\exp(\\log(w_i))}{\\sum_j \\exp(\\log(w_j))}$$\n",
    "\n",
    "The Gumbel-Argmax method for sampling this distribution is the following:\n",
    "Sample $U_k ~ Uniform(0,1)$ iid and compute $r_k = \\log\\alpha_k -log(-\\log U_k)$. Then choose the index $i$ of the maximum $r_k$ (ie take the argmax) and return the 1-hot vector with the $i$th index set to 1 and the rest to 0.\n",
    "The form of noise $-log(-\\log U_k)$ added to form $r_k$ has a Gumbel distribution whence the method gets its name."
   ]
  },
  {
   "cell_type": "code",
   "execution_count": null,
   "id": "ee7a6695-c6a2-467b-be31-7f3c2c1758a9",
   "metadata": {},
   "outputs": [],
   "source": []
  }
 ],
 "metadata": {
  "kernelspec": {
   "display_name": "Python 3",
   "language": "python",
   "name": "python3"
  },
  "language_info": {
   "codemirror_mode": {
    "name": "ipython",
    "version": 3
   },
   "file_extension": ".py",
   "mimetype": "text/x-python",
   "name": "python",
   "nbconvert_exporter": "python",
   "pygments_lexer": "ipython3",
   "version": "3.7.11"
  }
 },
 "nbformat": 4,
 "nbformat_minor": 5
}
